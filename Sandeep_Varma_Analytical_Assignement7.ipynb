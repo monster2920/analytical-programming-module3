{
 "cells": [
  {
   "cell_type": "markdown",
   "id": "d7ad2baa",
   "metadata": {},
   "source": [
    "\n",
    "\n",
    "##JUNE:*****Black Stone Cherry---CAPACITY---:1500 -- $ATTENDANCE: 1,315--GATE:--$28,492 ;*****Lady Gaga ----CAPACITY---:25,000--- $ATTENDANCE: 24,368---GATE:--$461,956#;*****Paramore ----CAPACITY---:3000 ---$ATTENDANCE: 3,000 ---GATE:-$150,000;*****Rage Against the Machine---CAPACITY---:12000 ---$ATTENDANCE: 10,782 ---GATE: --$724,087;*****BEYONCE---CAPACITY--:20000---$ATTENDANCE: 20,000—-GATE:$2,400,000*****"
   ]
  },
  {
   "cell_type": "markdown",
   "id": "db81134b",
   "metadata": {},
   "source": [
    "#1  Using regular expressions, extract the Capacity and Attendance counts for each concert from the unformatted text string shown above and store them in two separate Python list objects, i.e., one list containing the Capacity values as integers and one list containing the Attendance values as floats."
   ]
  },
  {
   "cell_type": "code",
   "execution_count": 81,
   "id": "db47e818",
   "metadata": {},
   "outputs": [
    {
     "name": "stdout",
     "output_type": "stream",
     "text": [
      "Concert Capacities: [1500, 25, 3000, 12000]\n",
      "Concert Attendances: [1315, 24368, 3000, 10782, 20000]\n",
      "Concert Artists: ['Black Stone Cherry', 'Lady Gaga', 'Paramore', 'Rage Against the Machine', 'BEYONCE']\n",
      "Concert Revenues: [2400000]\n",
      "Concert Artist Info:\n",
      "Black Stone Cherry : {'Average Ticket Price': '$1825.10', 'Has Multiple Words': True, 'Venue Fill Percentage': '87.67%'}\n"
     ]
    }
   ],
   "source": [
    "import re\n",
    "\n",
    "class Concert:\n",
    "    def __init__(self, concert_text_data):\n",
    "        \"\"\"\n",
    "        Initializing the Concert instance with concert text data.\n",
    "\n",
    "        Args:\n",
    "            concert_text_data (str): This is the input text data containing concert information.\n",
    "        \"\"\"\n",
    "        self.concert_text_data = concert_text_data\n",
    "\n",
    "    def extract_concert_capacity_attendance(self):\n",
    "        \"\"\"Extract Capacity and Attendance counts.\"\"\"\n",
    "        capacity_pattern = r\"CAPACITY---:(\\d+)\"\n",
    "        attendance_pattern = r\"ATTENDANCE:\\s*([\\d,]+)\"\n",
    "        \n",
    "        # Creating two lists for capacities and attendances and returning these two.\n",
    "        capacities = [int(match.group(1)) for match in re.finditer(capacity_pattern, self.concert_text_data)]\n",
    "        attendances = [int(match.group(1).replace(',', '')) for match in re.finditer(attendance_pattern, self.concert_text_data)]\n",
    "       # returning the capacity and attendances\n",
    "        return capacities, attendances\n",
    "\n",
    "    def extract_artist_names(self):\n",
    "        \"\"\"Extract artist names.\"\"\"\n",
    "        artist_pattern = r\"\\*{3}(.+?)---\"\n",
    "        artists = [match.group(1).strip() for match in re.finditer(artist_pattern, self.concert_text_data)]\n",
    "        return artists\n",
    "    \n",
    "    def extract_gross_revenue(self):\n",
    "        \"\"\"Extract Gross ticket revenue.\"\"\"\n",
    "        # 'revenue_pattern' is a regular expression pattern defined to match the gross revenue information in the text data.\n",
    "        revenue_pattern = r\"GATE:(\\s*\\$[\\d,]+)\"\n",
    "        revenues = [int(match.group(1).replace('$', '').replace(',', '')) for match in re.finditer(revenue_pattern, self.concert_text_data)]\n",
    "        return revenues\n",
    "\n",
    "    def create_artist_data(self):\n",
    "        \"\"\"Create a nested dictionary.\"\"\"\n",
    "        capacities, attendances = self.extract_concert_capacity_attendance()\n",
    "        artists = self.extract_artist_names()\n",
    "        revenues = self.extract_gross_revenue()\n",
    "\n",
    "        artist_data = {}\n",
    "        for artist, capacity, attendance, revenue in zip(artists, capacities, attendances, revenues):\n",
    "            avg_ticket_price = revenue / attendance\n",
    "            artist_data[artist] = {\n",
    "                'Average Ticket Price': f'${avg_ticket_price:.2f}',\n",
    "                'Has Multiple Words': ' ' in artist,\n",
    "                'Venue Fill Percentage': f'{(attendance / capacity * 100):.2f}%'\n",
    "            }\n",
    "\n",
    "        return artist_data\n",
    "\n",
    "# Sample text data\n",
    "concert_text_data = \"\"\"\n",
    "JUNE:***Black Stone Cherry---CAPACITY---:1500 -- $ATTENDANCE: 1,315--GATE:--$28,492 ;\n",
    "***Lady Gaga ----CAPACITY---:25,000--- $ATTENDANCE: 24,368---GATE:--$461,956#;\n",
    "***Paramore ----CAPACITY---:3000 ---$ATTENDANCE: 3,000 ---GATE:-$150,000;\n",
    "***Rage Against the Machine---CAPACITY---:12000 ---$ATTENDANCE: 10,782 ---GATE: --$724,087;\n",
    "***BEYONCE---CAPACITY--:20000---$ATTENDANCE: 20,000—-GATE:$2,400,000**\n",
    "\"\"\"\n",
    "\n",
    "# Creating an instance of the Concert\n",
    "data_handler = Concert(concert_text_data)\n",
    "\n",
    "# Performing the tasks\n",
    "concert_capacities, concert_attendances = data_handler.extract_concert_capacity_attendance()\n",
    "concert_artists = data_handler.extract_artist_names()\n",
    "concert_revenues = data_handler.extract_gross_revenue()\n",
    "concert_artist_info = data_handler.create_artist_data()\n",
    "\n",
    "# Printing the results\n",
    "print(\"Concert Capacities:\", concert_capacities)\n",
    "print(\"Concert Attendances:\", concert_attendances)\n",
    "print(\"Concert Artists:\", concert_artists)\n",
    "print(\"Concert Revenues:\", concert_revenues)\n",
    "print(\"Concert Artist Info:\")\n",
    "for artist, info in concert_artist_info.items():\n",
    "    print(artist, \":\", info)  # Print artist names and their corresponding info\n"
   ]
  },
  {
   "cell_type": "markdown",
   "id": "c8dd341e",
   "metadata": {},
   "source": [
    "#5 Consider the character string ‘FIdD1E7h=’. We would like to match this string using the regular expression “\\D[a-zA-Z]*[^,]=”, but the regular expression fails to match the text string. Explain why the regular expression fails and correct it."
   ]
  },
  {
   "cell_type": "code",
   "execution_count": 82,
   "id": "5230bd76",
   "metadata": {},
   "outputs": [
    {
     "name": "stdout",
     "output_type": "stream",
     "text": [
      "No match found for 'FIdD1E7h=' in the input string.\n"
     ]
    }
   ],
   "source": [
    "\n",
    "\n",
    "# The input string\n",
    "input_string = 'FIdD1E7h='\n",
    "\n",
    "# The regular expression pattern to match 'FIdD1E7h='\n",
    "pattern = r'\\D[a-zA-Z]*[^,]='\n",
    "\n",
    "# Using re.search to find the match\n",
    "match = re.search(pattern, input_string)\n",
    "\n",
    "# Checking if a match is found and printing the result\n",
    "if match:\n",
    "    matched_string = match.group(0)\n",
    "    print(\"Matched String:\", matched_string)\n",
    "else:\n",
    "    print(\"No match found for 'FIdD1E7h=' in the input string.\")\n"
   ]
  },
  {
   "cell_type": "markdown",
   "id": "f9439674",
   "metadata": {},
   "source": [
    "#6 Consider the character string “The spy was carefully disguised”. We would like to extract only the adverb ‘carefully’ from the string. To do so we write the regular expression “$*\\s+ly\\w+”. Explain why this fails and correct the expression."
   ]
  },
  {
   "cell_type": "code",
   "execution_count": 83,
   "id": "702b7a4a",
   "metadata": {},
   "outputs": [
    {
     "name": "stdout",
     "output_type": "stream",
     "text": [
      "Adverb: carefully\n"
     ]
    }
   ],
   "source": [
    "input_string = \"The spy was carefully disguised\"\n",
    "\n",
    "# The regular expression pattern to match 'carefully'\n",
    "pattern = r'\\b\\w+ly\\b'\n",
    "\n",
    "# Using re.search to find the match\n",
    "match = re.search(pattern, input_string)\n",
    "\n",
    "# Check if a match is found\n",
    "if match:\n",
    "    adverb = match.group(0)\n",
    "    print(\"Adverb:\", adverb)\n",
    "else:\n",
    "    print(\"No adverb found.\")"
   ]
  },
  {
   "cell_type": "markdown",
   "id": "7be63442",
   "metadata": {},
   "source": [
    "## Explaination:  The original regular expression \"\n",
    "\n",
    "It is incorrect for the task of extracting the adverb 'carefully' from the string \"The spy was carefully disguised.\" \n",
    "Original Regular Expression: \"$*\\s+ly\\w+\"\n",
    "\n",
    "The original expression includes the dollar sign ('$') at the beginning. In regular expressions, the dollar sign typically represents the end of a line or string. In this context, it's not appropriate because the adverb you want to extract is in the middle of the string.\n",
    "\n",
    "The \\s+ part is used to match one or more whitespace characters, which is not a suitable way to capture 'carefully' as it is immediately followed by 'disguised' with a single space.\n",
    "\n",
    "The 'ly\\w+' part is intended to match 'ly' followed by one or more word characters, but this is not the common way to capture adverbs, as they typically don't have letters before 'ly.'"
   ]
  },
  {
   "cell_type": "markdown",
   "id": "04a57187",
   "metadata": {},
   "source": [
    "To correct the expression, you should use word boundaries to ensure that you're matching 'ly' as a separate word. The corrected expression is:\n",
    "\n",
    " Correct Exp is: r'\\b\\w+ly\\b'"
   ]
  },
  {
   "cell_type": "markdown",
   "id": "71af25bf",
   "metadata": {},
   "source": [
    "\\b: This is a word boundary anchor, ensuring that the matched word is a whole word and not part of a larger word.\n",
    "\n",
    "\\w+: This part matches one or more word characters (letters, digits, or underscores).\n",
    "\n",
    "ly: This matches the characters 'ly' literally.\n",
    "\n",
    "\\b: Another word boundary anchor, ensuring that the word ends here.\n",
    "\n",
    "The corrected expression accurately matches 'carefully' as a separate word in the input string."
   ]
  },
  {
   "cell_type": "code",
   "execution_count": null,
   "id": "c9f3d890",
   "metadata": {},
   "outputs": [],
   "source": []
  }
 ],
 "metadata": {
  "kernelspec": {
   "display_name": "Python 3 (ipykernel)",
   "language": "python",
   "name": "python3"
  },
  "language_info": {
   "codemirror_mode": {
    "name": "ipython",
    "version": 3
   },
   "file_extension": ".py",
   "mimetype": "text/x-python",
   "name": "python",
   "nbconvert_exporter": "python",
   "pygments_lexer": "ipython3",
   "version": "3.11.4"
  }
 },
 "nbformat": 4,
 "nbformat_minor": 5
}
